{
 "cells": [
  {
   "cell_type": "markdown",
   "id": "b8911c6f",
   "metadata": {},
   "source": [
    "# HEART DISEASE PROJECT"
   ]
  },
  {
   "cell_type": "code",
   "execution_count": 1,
   "id": "da923626",
   "metadata": {},
   "outputs": [],
   "source": [
    "import numpy as np\n",
    "import pandas as pd\n",
    "import matplotlib.pyplot as plt"
   ]
  },
  {
   "cell_type": "code",
   "execution_count": 2,
   "id": "6ede04f2",
   "metadata": {},
   "outputs": [],
   "source": [
    "heart_data = pd.read_csv(r'C:\\Users\\hp\\OneDrive\\Desktop\\Heart Attack project\\heart_new.csv')"
   ]
  },
  {
   "cell_type": "code",
   "execution_count": 3,
   "id": "4ee360f0",
   "metadata": {},
   "outputs": [
    {
     "data": {
      "text/html": [
       "<div>\n",
       "<style scoped>\n",
       "    .dataframe tbody tr th:only-of-type {\n",
       "        vertical-align: middle;\n",
       "    }\n",
       "\n",
       "    .dataframe tbody tr th {\n",
       "        vertical-align: top;\n",
       "    }\n",
       "\n",
       "    .dataframe thead th {\n",
       "        text-align: right;\n",
       "    }\n",
       "</style>\n",
       "<table border=\"1\" class=\"dataframe\">\n",
       "  <thead>\n",
       "    <tr style=\"text-align: right;\">\n",
       "      <th></th>\n",
       "      <th>age</th>\n",
       "      <th>sex</th>\n",
       "      <th>cp</th>\n",
       "      <th>trestbps</th>\n",
       "      <th>chol</th>\n",
       "      <th>fbs</th>\n",
       "      <th>thalach</th>\n",
       "      <th>target</th>\n",
       "    </tr>\n",
       "  </thead>\n",
       "  <tbody>\n",
       "    <tr>\n",
       "      <th>0</th>\n",
       "      <td>52</td>\n",
       "      <td>1</td>\n",
       "      <td>0</td>\n",
       "      <td>125</td>\n",
       "      <td>212</td>\n",
       "      <td>0</td>\n",
       "      <td>168</td>\n",
       "      <td>0</td>\n",
       "    </tr>\n",
       "    <tr>\n",
       "      <th>1</th>\n",
       "      <td>53</td>\n",
       "      <td>1</td>\n",
       "      <td>0</td>\n",
       "      <td>140</td>\n",
       "      <td>203</td>\n",
       "      <td>1</td>\n",
       "      <td>155</td>\n",
       "      <td>0</td>\n",
       "    </tr>\n",
       "    <tr>\n",
       "      <th>2</th>\n",
       "      <td>70</td>\n",
       "      <td>1</td>\n",
       "      <td>0</td>\n",
       "      <td>145</td>\n",
       "      <td>174</td>\n",
       "      <td>0</td>\n",
       "      <td>125</td>\n",
       "      <td>0</td>\n",
       "    </tr>\n",
       "    <tr>\n",
       "      <th>3</th>\n",
       "      <td>61</td>\n",
       "      <td>1</td>\n",
       "      <td>0</td>\n",
       "      <td>148</td>\n",
       "      <td>203</td>\n",
       "      <td>0</td>\n",
       "      <td>161</td>\n",
       "      <td>0</td>\n",
       "    </tr>\n",
       "    <tr>\n",
       "      <th>4</th>\n",
       "      <td>62</td>\n",
       "      <td>0</td>\n",
       "      <td>0</td>\n",
       "      <td>138</td>\n",
       "      <td>294</td>\n",
       "      <td>1</td>\n",
       "      <td>106</td>\n",
       "      <td>0</td>\n",
       "    </tr>\n",
       "  </tbody>\n",
       "</table>\n",
       "</div>"
      ],
      "text/plain": [
       "   age  sex  cp  trestbps  chol  fbs  thalach  target\n",
       "0   52    1   0       125   212    0      168       0\n",
       "1   53    1   0       140   203    1      155       0\n",
       "2   70    1   0       145   174    0      125       0\n",
       "3   61    1   0       148   203    0      161       0\n",
       "4   62    0   0       138   294    1      106       0"
      ]
     },
     "execution_count": 3,
     "metadata": {},
     "output_type": "execute_result"
    }
   ],
   "source": [
    "heart_data.head()"
   ]
  },
  {
   "cell_type": "markdown",
   "id": "5cbd0050",
   "metadata": {},
   "source": [
    "describing features"
   ]
  },
  {
   "cell_type": "raw",
   "id": "76562dc5",
   "metadata": {},
   "source": [
    "1) Age in years\n",
    "2) Sex 1:Male,0:Female\n",
    "3) cp: chest pain type"
   ]
  },
  {
   "cell_type": "raw",
   "id": "eb327eaa",
   "metadata": {},
   "source": [
    "4) chol: serum cholestrol in mg/dl\n",
    "5) fbs (fasting blood sugar &gt; 120 mg/dl) (1 = true; 0 = false)\n",
    "6) thalach maximum heart rate achieved\n",
    "7) trestbps resting blood pressure (in mm Hg on admission to the hospital)\n",
    "8) Target 0: Not having heart_attack 1: having heart attack"
   ]
  },
  {
   "cell_type": "markdown",
   "id": "fba4274b",
   "metadata": {},
   "source": [
    "Analysing the data"
   ]
  },
  {
   "cell_type": "code",
   "execution_count": 4,
   "id": "fc9e2131",
   "metadata": {},
   "outputs": [
    {
     "data": {
      "text/html": [
       "<div>\n",
       "<style scoped>\n",
       "    .dataframe tbody tr th:only-of-type {\n",
       "        vertical-align: middle;\n",
       "    }\n",
       "\n",
       "    .dataframe tbody tr th {\n",
       "        vertical-align: top;\n",
       "    }\n",
       "\n",
       "    .dataframe thead th {\n",
       "        text-align: right;\n",
       "    }\n",
       "</style>\n",
       "<table border=\"1\" class=\"dataframe\">\n",
       "  <thead>\n",
       "    <tr style=\"text-align: right;\">\n",
       "      <th></th>\n",
       "      <th>age</th>\n",
       "      <th>sex</th>\n",
       "      <th>cp</th>\n",
       "      <th>trestbps</th>\n",
       "      <th>chol</th>\n",
       "      <th>fbs</th>\n",
       "      <th>thalach</th>\n",
       "      <th>target</th>\n",
       "    </tr>\n",
       "  </thead>\n",
       "  <tbody>\n",
       "    <tr>\n",
       "      <th>count</th>\n",
       "      <td>1025.000000</td>\n",
       "      <td>1025.000000</td>\n",
       "      <td>1025.000000</td>\n",
       "      <td>1025.000000</td>\n",
       "      <td>1025.00000</td>\n",
       "      <td>1025.000000</td>\n",
       "      <td>1025.000000</td>\n",
       "      <td>1025.000000</td>\n",
       "    </tr>\n",
       "    <tr>\n",
       "      <th>mean</th>\n",
       "      <td>54.434146</td>\n",
       "      <td>0.695610</td>\n",
       "      <td>0.942439</td>\n",
       "      <td>131.611707</td>\n",
       "      <td>246.00000</td>\n",
       "      <td>0.149268</td>\n",
       "      <td>149.114146</td>\n",
       "      <td>0.513171</td>\n",
       "    </tr>\n",
       "    <tr>\n",
       "      <th>std</th>\n",
       "      <td>9.072290</td>\n",
       "      <td>0.460373</td>\n",
       "      <td>1.029641</td>\n",
       "      <td>17.516718</td>\n",
       "      <td>51.59251</td>\n",
       "      <td>0.356527</td>\n",
       "      <td>23.005724</td>\n",
       "      <td>0.500070</td>\n",
       "    </tr>\n",
       "    <tr>\n",
       "      <th>min</th>\n",
       "      <td>29.000000</td>\n",
       "      <td>0.000000</td>\n",
       "      <td>0.000000</td>\n",
       "      <td>94.000000</td>\n",
       "      <td>126.00000</td>\n",
       "      <td>0.000000</td>\n",
       "      <td>71.000000</td>\n",
       "      <td>0.000000</td>\n",
       "    </tr>\n",
       "    <tr>\n",
       "      <th>25%</th>\n",
       "      <td>48.000000</td>\n",
       "      <td>0.000000</td>\n",
       "      <td>0.000000</td>\n",
       "      <td>120.000000</td>\n",
       "      <td>211.00000</td>\n",
       "      <td>0.000000</td>\n",
       "      <td>132.000000</td>\n",
       "      <td>0.000000</td>\n",
       "    </tr>\n",
       "    <tr>\n",
       "      <th>50%</th>\n",
       "      <td>56.000000</td>\n",
       "      <td>1.000000</td>\n",
       "      <td>1.000000</td>\n",
       "      <td>130.000000</td>\n",
       "      <td>240.00000</td>\n",
       "      <td>0.000000</td>\n",
       "      <td>152.000000</td>\n",
       "      <td>1.000000</td>\n",
       "    </tr>\n",
       "    <tr>\n",
       "      <th>75%</th>\n",
       "      <td>61.000000</td>\n",
       "      <td>1.000000</td>\n",
       "      <td>2.000000</td>\n",
       "      <td>140.000000</td>\n",
       "      <td>275.00000</td>\n",
       "      <td>0.000000</td>\n",
       "      <td>166.000000</td>\n",
       "      <td>1.000000</td>\n",
       "    </tr>\n",
       "    <tr>\n",
       "      <th>max</th>\n",
       "      <td>77.000000</td>\n",
       "      <td>1.000000</td>\n",
       "      <td>3.000000</td>\n",
       "      <td>200.000000</td>\n",
       "      <td>564.00000</td>\n",
       "      <td>1.000000</td>\n",
       "      <td>202.000000</td>\n",
       "      <td>1.000000</td>\n",
       "    </tr>\n",
       "  </tbody>\n",
       "</table>\n",
       "</div>"
      ],
      "text/plain": [
       "               age          sex           cp     trestbps        chol  \\\n",
       "count  1025.000000  1025.000000  1025.000000  1025.000000  1025.00000   \n",
       "mean     54.434146     0.695610     0.942439   131.611707   246.00000   \n",
       "std       9.072290     0.460373     1.029641    17.516718    51.59251   \n",
       "min      29.000000     0.000000     0.000000    94.000000   126.00000   \n",
       "25%      48.000000     0.000000     0.000000   120.000000   211.00000   \n",
       "50%      56.000000     1.000000     1.000000   130.000000   240.00000   \n",
       "75%      61.000000     1.000000     2.000000   140.000000   275.00000   \n",
       "max      77.000000     1.000000     3.000000   200.000000   564.00000   \n",
       "\n",
       "               fbs      thalach       target  \n",
       "count  1025.000000  1025.000000  1025.000000  \n",
       "mean      0.149268   149.114146     0.513171  \n",
       "std       0.356527    23.005724     0.500070  \n",
       "min       0.000000    71.000000     0.000000  \n",
       "25%       0.000000   132.000000     0.000000  \n",
       "50%       0.000000   152.000000     1.000000  \n",
       "75%       0.000000   166.000000     1.000000  \n",
       "max       1.000000   202.000000     1.000000  "
      ]
     },
     "execution_count": 4,
     "metadata": {},
     "output_type": "execute_result"
    }
   ],
   "source": [
    "heart_data.describe()"
   ]
  },
  {
   "cell_type": "code",
   "execution_count": 5,
   "id": "d7716433",
   "metadata": {},
   "outputs": [
    {
     "data": {
      "text/plain": [
       "age          54.434146\n",
       "sex           0.695610\n",
       "cp            0.942439\n",
       "trestbps    131.611707\n",
       "chol        246.000000\n",
       "fbs           0.149268\n",
       "thalach     149.114146\n",
       "target        0.513171\n",
       "dtype: float64"
      ]
     },
     "execution_count": 5,
     "metadata": {},
     "output_type": "execute_result"
    }
   ],
   "source": [
    "heart_data.mean()"
   ]
  },
  {
   "cell_type": "code",
   "execution_count": 6,
   "id": "fea5cc64",
   "metadata": {},
   "outputs": [
    {
     "data": {
      "text/plain": [
       "pandas.core.frame.DataFrame"
      ]
     },
     "execution_count": 6,
     "metadata": {},
     "output_type": "execute_result"
    }
   ],
   "source": [
    "type(heart_data)"
   ]
  },
  {
   "cell_type": "code",
   "execution_count": 7,
   "id": "26739a78",
   "metadata": {},
   "outputs": [
    {
     "name": "stdout",
     "output_type": "stream",
     "text": [
      "<class 'pandas.core.frame.DataFrame'>\n",
      "RangeIndex: 1025 entries, 0 to 1024\n",
      "Data columns (total 8 columns):\n",
      " #   Column    Non-Null Count  Dtype\n",
      "---  ------    --------------  -----\n",
      " 0   age       1025 non-null   int64\n",
      " 1   sex       1025 non-null   int64\n",
      " 2   cp        1025 non-null   int64\n",
      " 3   trestbps  1025 non-null   int64\n",
      " 4   chol      1025 non-null   int64\n",
      " 5   fbs       1025 non-null   int64\n",
      " 6   thalach   1025 non-null   int64\n",
      " 7   target    1025 non-null   int64\n",
      "dtypes: int64(8)\n",
      "memory usage: 64.2 KB\n"
     ]
    }
   ],
   "source": [
    "heart_data.info()"
   ]
  },
  {
   "cell_type": "code",
   "execution_count": 8,
   "id": "297e3685",
   "metadata": {},
   "outputs": [
    {
     "name": "stdout",
     "output_type": "stream",
     "text": [
      "<class 'pandas.core.series.Series'>\n",
      "RangeIndex: 1025 entries, 0 to 1024\n",
      "Series name: target\n",
      "Non-Null Count  Dtype\n",
      "--------------  -----\n",
      "1025 non-null   int64\n",
      "dtypes: int64(1)\n",
      "memory usage: 8.1 KB\n"
     ]
    }
   ],
   "source": [
    "heart_data[\"target\"].info()"
   ]
  },
  {
   "cell_type": "code",
   "execution_count": 9,
   "id": "f6c6c275",
   "metadata": {},
   "outputs": [
    {
     "data": {
      "text/plain": [
       "count    1025.000000\n",
       "mean        0.513171\n",
       "std         0.500070\n",
       "min         0.000000\n",
       "25%         0.000000\n",
       "50%         1.000000\n",
       "75%         1.000000\n",
       "max         1.000000\n",
       "Name: target, dtype: float64"
      ]
     },
     "execution_count": 9,
     "metadata": {},
     "output_type": "execute_result"
    }
   ],
   "source": [
    "heart_data[\"target\"].describe()"
   ]
  },
  {
   "cell_type": "markdown",
   "id": "f25b064d",
   "metadata": {},
   "source": [
    "checking for correlation"
   ]
  },
  {
   "cell_type": "code",
   "execution_count": 10,
   "id": "6cef589e",
   "metadata": {},
   "outputs": [
    {
     "data": {
      "text/plain": [
       "age        -0.229324\n",
       "sex        -0.279501\n",
       "cp          0.434854\n",
       "trestbps   -0.138772\n",
       "chol       -0.099966\n",
       "fbs        -0.041164\n",
       "thalach     0.422895\n",
       "target      1.000000\n",
       "Name: target, dtype: float64"
      ]
     },
     "execution_count": 10,
     "metadata": {},
     "output_type": "execute_result"
    }
   ],
   "source": [
    "rel = heart_data.corr()\n",
    "rel[\"target\"]"
   ]
  },
  {
   "cell_type": "code",
   "execution_count": 11,
   "id": "67c25293",
   "metadata": {},
   "outputs": [
    {
     "data": {
      "text/plain": [
       "array([[<AxesSubplot:xlabel='age', ylabel='age'>,\n",
       "        <AxesSubplot:xlabel='sex', ylabel='age'>,\n",
       "        <AxesSubplot:xlabel='cp', ylabel='age'>,\n",
       "        <AxesSubplot:xlabel='chol', ylabel='age'>,\n",
       "        <AxesSubplot:xlabel='target', ylabel='age'>],\n",
       "       [<AxesSubplot:xlabel='age', ylabel='sex'>,\n",
       "        <AxesSubplot:xlabel='sex', ylabel='sex'>,\n",
       "        <AxesSubplot:xlabel='cp', ylabel='sex'>,\n",
       "        <AxesSubplot:xlabel='chol', ylabel='sex'>,\n",
       "        <AxesSubplot:xlabel='target', ylabel='sex'>],\n",
       "       [<AxesSubplot:xlabel='age', ylabel='cp'>,\n",
       "        <AxesSubplot:xlabel='sex', ylabel='cp'>,\n",
       "        <AxesSubplot:xlabel='cp', ylabel='cp'>,\n",
       "        <AxesSubplot:xlabel='chol', ylabel='cp'>,\n",
       "        <AxesSubplot:xlabel='target', ylabel='cp'>],\n",
       "       [<AxesSubplot:xlabel='age', ylabel='chol'>,\n",
       "        <AxesSubplot:xlabel='sex', ylabel='chol'>,\n",
       "        <AxesSubplot:xlabel='cp', ylabel='chol'>,\n",
       "        <AxesSubplot:xlabel='chol', ylabel='chol'>,\n",
       "        <AxesSubplot:xlabel='target', ylabel='chol'>],\n",
       "       [<AxesSubplot:xlabel='age', ylabel='target'>,\n",
       "        <AxesSubplot:xlabel='sex', ylabel='target'>,\n",
       "        <AxesSubplot:xlabel='cp', ylabel='target'>,\n",
       "        <AxesSubplot:xlabel='chol', ylabel='target'>,\n",
       "        <AxesSubplot:xlabel='target', ylabel='target'>]], dtype=object)"
      ]
     },
     "execution_count": 11,
     "metadata": {},
     "output_type": "execute_result"
    },
    {
     "data": {
      "image/png": "[encoded data removed]",
      "text/plain": [
       "<Figure size 1500x1000 with 25 Axes>"
      ]
     },
     "metadata": {},
     "output_type": "display_data"
    }
   ],
   "source": [
    "from pandas.plotting import scatter_matrix\n",
    "feature = ['age','sex','cp','chol','target']\n",
    "scatter_matrix(heart_data[feature],figsize=(15,10))"
   ]
  },
  {
   "cell_type": "code",
   "execution_count": 12,
   "id": "d6ad5a29",
   "metadata": {},
   "outputs": [
    {
     "name": "stdout",
     "output_type": "stream",
     "text": [
      "Requirement already satisfied: seaborn in c:\\users\\hp\\anaconda3\\lib\\site-packages (0.11.2)\n",
      "Requirement already satisfied: pandas>=0.23 in c:\\users\\hp\\anaconda3\\lib\\site-packages (from seaborn) (1.4.4)\n",
      "Requirement already satisfied: matplotlib>=2.2 in c:\\users\\hp\\anaconda3\\lib\\site-packages (from seaborn) (3.5.2)\n",
      "Requirement already satisfied: scipy>=1.0 in c:\\users\\hp\\anaconda3\\lib\\site-packages (from seaborn) (1.9.1)\n",
      "Requirement already satisfied: numpy>=1.15 in c:\\users\\hp\\anaconda3\\lib\\site-packages (from seaborn) (1.21.5)\n",
      "Requirement already satisfied: python-dateutil>=2.7 in c:\\users\\hp\\anaconda3\\lib\\site-packages (from matplotlib>=2.2->seaborn) (2.8.2)\n",
      "Requirement already satisfied: fonttools>=4.22.0 in c:\\users\\hp\\anaconda3\\lib\\site-packages (from matplotlib>=2.2->seaborn) (4.25.0)\n",
      "Requirement already satisfied: pyparsing>=2.2.1 in c:\\users\\hp\\anaconda3\\lib\\site-packages (from matplotlib>=2.2->seaborn) (3.0.9)\n",
      "Requirement already satisfied: pillow>=6.2.0 in c:\\users\\hp\\anaconda3\\lib\\site-packages (from matplotlib>=2.2->seaborn) (9.2.0)\n",
      "Requirement already satisfied: kiwisolver>=1.0.1 in c:\\users\\hp\\anaconda3\\lib\\site-packages (from matplotlib>=2.2->seaborn) (1.4.2)\n",
      "Requirement already satisfied: packaging>=20.0 in c:\\users\\hp\\anaconda3\\lib\\site-packages (from matplotlib>=2.2->seaborn) (21.3)\n",
      "Requirement already satisfied: cycler>=0.10 in c:\\users\\hp\\anaconda3\\lib\\site-packages (from matplotlib>=2.2->seaborn) (0.11.0)\n",
      "Requirement already satisfied: pytz>=2020.1 in c:\\users\\hp\\anaconda3\\lib\\site-packages (from pandas>=0.23->seaborn) (2022.1)\n",
      "Requirement already satisfied: six>=1.5 in c:\\users\\hp\\anaconda3\\lib\\site-packages (from python-dateutil>=2.7->matplotlib>=2.2->seaborn) (1.16.0)\n",
      "Note: you may need to restart the kernel to use updated packages.\n"
     ]
    }
   ],
   "source": [
    "pip install seaborn"
   ]
  },
  {
   "cell_type": "markdown",
   "id": "37d8e207",
   "metadata": {},
   "source": [
    "Analysing Each feature with target value"
   ]
  },
  {
   "cell_type": "code",
   "execution_count": 13,
   "id": "7bc9273b",
   "metadata": {},
   "outputs": [],
   "source": [
    "import seaborn as sns"
   ]
  },
  {
   "cell_type": "code",
   "execution_count": 14,
   "id": "32196508",
   "metadata": {
    "scrolled": false
   },
   "outputs": [
    {
     "data": {
      "text/plain": [
       "(array([  4.,  39., 109., 125., 120., 205., 219., 149.,  46.,   9.]),\n",
       " array([29. , 33.8, 38.6, 43.4, 48.2, 53. , 57.8, 62.6, 67.4, 72.2, 77. ]),\n",
       " <BarContainer object of 10 artists>)"
      ]
     },
     "execution_count": 14,
     "metadata": {},
     "output_type": "execute_result"
    },
    {
     "data": {
      "image/png": "[encoded data removed]",
      "text/plain": [
       "<Figure size 640x480 with 1 Axes>"
      ]
     },
     "metadata": {},
     "output_type": "display_data"
    }
   ],
   "source": [
    "plt.hist(heart_data[\"age\"])\n",
    "#ax = final_df.hist(column='Total(BT)', color='#86bf91')"
   ]
  },
  {
   "cell_type": "code",
   "execution_count": 15,
   "id": "93f62cf4",
   "metadata": {},
   "outputs": [],
   "source": [
    "#plt.bar(heart_data[\"age\"], heart_data[\"target\"],color ='green',width = 0.4)"
   ]
  },
  {
   "cell_type": "code",
   "execution_count": 16,
   "id": "82a6fd44",
   "metadata": {},
   "outputs": [
    {
     "name": "stderr",
     "output_type": "stream",
     "text": [
      "C:\\Users\\hp\\anaconda3\\lib\\site-packages\\seaborn\\_decorators.py:36: FutureWarning: Pass the following variable as a keyword arg: x. From version 0.12, the only valid positional argument will be `data`, and passing other arguments without an explicit keyword will result in an error or misinterpretation.\n",
      "  warnings.warn(\n"
     ]
    },
    {
     "data": {
      "text/plain": [
       "<AxesSubplot:xlabel='target', ylabel='count'>"
      ]
     },
     "execution_count": 16,
     "metadata": {},
     "output_type": "execute_result"
    },
    {
     "data": {
      "image/png": "[encoded data removed]",
      "text/plain": [
       "<Figure size 640x480 with 1 Axes>"
      ]
     },
     "metadata": {},
     "output_type": "display_data"
    }
   ],
   "source": [
    "sns.countplot(heart_data[\"target\"])"
   ]
  },
  {
   "cell_type": "code",
   "execution_count": 17,
   "id": "b1031be2",
   "metadata": {},
   "outputs": [
    {
     "data": {
      "text/plain": [
       "1    526\n",
       "0    499\n",
       "Name: target, dtype: int64"
      ]
     },
     "execution_count": 17,
     "metadata": {},
     "output_type": "execute_result"
    }
   ],
   "source": [
    "y = heart_data['target']\n",
    "heart_data['target'].value_counts()"
   ]
  },
  {
   "cell_type": "markdown",
   "id": "d58cc295",
   "metadata": {},
   "source": [
    "Analysing SEX with Target"
   ]
  },
  {
   "cell_type": "code",
   "execution_count": 18,
   "id": "cc24378e",
   "metadata": {},
   "outputs": [
    {
     "name": "stdout",
     "output_type": "stream",
     "text": [
      "1    713\n",
      "0    312\n",
      "Name: sex, dtype: int64\n"
     ]
    },
    {
     "data": {
      "text/plain": [
       "array([1, 0], dtype=int64)"
      ]
     },
     "execution_count": 18,
     "metadata": {},
     "output_type": "execute_result"
    }
   ],
   "source": [
    "print(heart_data[\"sex\"].value_counts())\n",
    "heart_data[\"sex\"].unique()"
   ]
  },
  {
   "cell_type": "code",
   "execution_count": 19,
   "id": "673f0571",
   "metadata": {},
   "outputs": [],
   "source": [
    "#plt.bar(heart_data['sex'],heart_data['target'])\n",
    "#plt.bar(name[0:10], price[0:10])"
   ]
  },
  {
   "cell_type": "code",
   "execution_count": 20,
   "id": "b7b34462",
   "metadata": {},
   "outputs": [
    {
     "name": "stderr",
     "output_type": "stream",
     "text": [
      "C:\\Users\\hp\\anaconda3\\lib\\site-packages\\seaborn\\_decorators.py:36: FutureWarning: Pass the following variables as keyword args: x, y. From version 0.12, the only valid positional argument will be `data`, and passing other arguments without an explicit keyword will result in an error or misinterpretation.\n",
      "  warnings.warn(\n"
     ]
    },
    {
     "data": {
      "text/plain": [
       "<AxesSubplot:xlabel='sex', ylabel='target'>"
      ]
     },
     "execution_count": 20,
     "metadata": {},
     "output_type": "execute_result"
    },
    {
     "data": {
      "image/png": "[encoded data removed]",
      "text/plain": [
       "<Figure size 640x480 with 1 Axes>"
      ]
     },
     "metadata": {},
     "output_type": "display_data"
    }
   ],
   "source": [
    "sns.barplot(heart_data[\"sex\"],y)"
   ]
  },
  {
   "cell_type": "raw",
   "id": "8ea427cc",
   "metadata": {},
   "source": [
    "From the above plot female are more likely to have heart dieases"
   ]
  },
  {
   "cell_type": "markdown",
   "id": "3de77514",
   "metadata": {},
   "source": [
    "# Analyze with chest pain"
   ]
  },
  {
   "cell_type": "code",
   "execution_count": 21,
   "id": "ef808702",
   "metadata": {},
   "outputs": [
    {
     "data": {
      "text/plain": [
       "array([0, 1, 2, 3], dtype=int64)"
      ]
     },
     "execution_count": 21,
     "metadata": {},
     "output_type": "execute_result"
    }
   ],
   "source": [
    "heart_data[\"cp\"].unique()"
   ]
  },
  {
   "cell_type": "code",
   "execution_count": 22,
   "id": "2b712a9e",
   "metadata": {},
   "outputs": [
    {
     "data": {
      "text/plain": [
       "0    497\n",
       "2    284\n",
       "1    167\n",
       "3     77\n",
       "Name: cp, dtype: int64"
      ]
     },
     "execution_count": 22,
     "metadata": {},
     "output_type": "execute_result"
    }
   ],
   "source": [
    "heart_data[\"cp\"].value_counts()"
   ]
  },
  {
   "cell_type": "code",
   "execution_count": 23,
   "id": "b50c6718",
   "metadata": {},
   "outputs": [
    {
     "name": "stderr",
     "output_type": "stream",
     "text": [
      "C:\\Users\\hp\\anaconda3\\lib\\site-packages\\seaborn\\_decorators.py:36: FutureWarning: Pass the following variables as keyword args: x, y. From version 0.12, the only valid positional argument will be `data`, and passing other arguments without an explicit keyword will result in an error or misinterpretation.\n",
      "  warnings.warn(\n"
     ]
    },
    {
     "data": {
      "text/plain": [
       "<AxesSubplot:xlabel='cp', ylabel='target'>"
      ]
     },
     "execution_count": 23,
     "metadata": {},
     "output_type": "execute_result"
    },
    {
     "data": {
      "image/png": "[encoded data removed]",
      "text/plain": [
       "<Figure size 640x480 with 1 Axes>"
      ]
     },
     "metadata": {},
     "output_type": "display_data"
    }
   ],
   "source": [
    "sns.barplot(heart_data[\"cp\"],y)"
   ]
  },
  {
   "cell_type": "markdown",
   "id": "c9ba19e4",
   "metadata": {},
   "source": [
    "chest pain of type 1 , 2 ,3 are more likely to have heat dieseas"
   ]
  },
  {
   "cell_type": "markdown",
   "id": "f2d77762",
   "metadata": {},
   "source": [
    "# Analysis with trestbps"
   ]
  },
  {
   "cell_type": "code",
   "execution_count": 24,
   "id": "4f967c83",
   "metadata": {},
   "outputs": [
    {
     "data": {
      "text/plain": [
       "array([125, 140, 145, 148, 138, 100, 114, 160, 120, 122, 112, 132, 118,\n",
       "       128, 124, 106, 104, 135, 130, 136, 180, 129, 150, 178, 146, 117,\n",
       "       152, 154, 170, 134, 174, 144, 108, 123, 110, 142, 126, 192, 115,\n",
       "        94, 200, 165, 102, 105, 155, 172, 164, 156, 101], dtype=int64)"
      ]
     },
     "execution_count": 24,
     "metadata": {},
     "output_type": "execute_result"
    }
   ],
   "source": [
    "heart_data[\"trestbps\"].unique()"
   ]
  },
  {
   "cell_type": "code",
   "execution_count": 25,
   "id": "7e8c8d91",
   "metadata": {},
   "outputs": [
    {
     "data": {
      "text/plain": [
       "120    128\n",
       "130    123\n",
       "140    107\n",
       "110     64\n",
       "150     55\n",
       "138     45\n",
       "128     39\n",
       "125     38\n",
       "160     36\n",
       "112     30\n",
       "132     28\n",
       "118     24\n",
       "108     21\n",
       "124     20\n",
       "135     20\n",
       "145     17\n",
       "134     17\n",
       "152     17\n",
       "170     15\n",
       "122     14\n",
       "100     14\n",
       "136     11\n",
       "126     10\n",
       "180     10\n",
       "142      9\n",
       "115      9\n",
       "105      9\n",
       "146      8\n",
       "148      7\n",
       "178      7\n",
       "94       7\n",
       "144      6\n",
       "102      6\n",
       "154      4\n",
       "117      4\n",
       "165      4\n",
       "200      4\n",
       "114      4\n",
       "123      4\n",
       "192      3\n",
       "106      3\n",
       "104      3\n",
       "129      3\n",
       "174      3\n",
       "155      3\n",
       "172      3\n",
       "164      3\n",
       "156      3\n",
       "101      3\n",
       "Name: trestbps, dtype: int64"
      ]
     },
     "execution_count": 25,
     "metadata": {},
     "output_type": "execute_result"
    }
   ],
   "source": [
    "heart_data[\"trestbps\"].value_counts()"
   ]
  },
  {
   "cell_type": "code",
   "execution_count": 26,
   "id": "e4c8d0d0",
   "metadata": {},
   "outputs": [
    {
     "data": {
      "text/plain": [
       "<AxesSubplot:xlabel='trestbps', ylabel='target'>"
      ]
     },
     "execution_count": 26,
     "metadata": {},
     "output_type": "execute_result"
    },
    {
     "data": {
      "image/png": "[encoded data removed]",
      "text/plain": [
       "<Figure size 640x480 with 1 Axes>"
      ]
     },
     "metadata": {},
     "output_type": "display_data"
    }
   ],
   "source": [
    "sns.scatterplot(data=heart_data, x=\"trestbps\", y=\"target\")"
   ]
  },
  {
   "cell_type": "markdown",
   "id": "1d2449bc",
   "metadata": {},
   "source": [
    "! not getting clear view, I solve this problem using PowerBI"
   ]
  },
  {
   "cell_type": "markdown",
   "id": "f8859462",
   "metadata": {},
   "source": [
    "## Analyze with chol"
   ]
  },
  {
   "cell_type": "code",
   "execution_count": 27,
   "id": "92f3ee96",
   "metadata": {},
   "outputs": [
    {
     "data": {
      "text/plain": [
       "array([212, 203, 174, 294, 248, 318, 289, 249, 286, 149, 341, 210, 298,\n",
       "       204, 308, 266, 244, 211, 185, 223, 208, 252, 209, 307, 233, 319,\n",
       "       256, 327, 169, 131, 269, 196, 231, 213, 271, 263, 229, 360, 258,\n",
       "       330, 342, 226, 228, 278, 230, 283, 241, 175, 188, 217, 193, 245,\n",
       "       232, 299, 288, 197, 315, 215, 164, 326, 207, 177, 257, 255, 187,\n",
       "       201, 220, 268, 267, 236, 303, 282, 126, 309, 186, 275, 281, 206,\n",
       "       335, 218, 254, 295, 417, 260, 240, 302, 192, 225, 325, 235, 274,\n",
       "       234, 182, 167, 172, 321, 300, 199, 564, 157, 304, 222, 184, 354,\n",
       "       160, 247, 239, 246, 409, 293, 180, 250, 221, 200, 227, 243, 311,\n",
       "       261, 242, 205, 306, 219, 353, 198, 394, 183, 237, 224, 265, 313,\n",
       "       340, 259, 270, 216, 264, 276, 322, 214, 273, 253, 176, 284, 305,\n",
       "       168, 407, 290, 277, 262, 195, 166, 178, 141], dtype=int64)"
      ]
     },
     "execution_count": 27,
     "metadata": {},
     "output_type": "execute_result"
    }
   ],
   "source": [
    "heart_data[\"chol\"].unique()"
   ]
  },
  {
   "cell_type": "code",
   "execution_count": 28,
   "id": "228e0cf6",
   "metadata": {},
   "outputs": [
    {
     "data": {
      "text/plain": [
       "204    21\n",
       "234    21\n",
       "197    19\n",
       "212    18\n",
       "254    17\n",
       "       ..\n",
       "164     3\n",
       "394     3\n",
       "215     3\n",
       "160     3\n",
       "141     3\n",
       "Name: chol, Length: 152, dtype: int64"
      ]
     },
     "execution_count": 28,
     "metadata": {},
     "output_type": "execute_result"
    }
   ],
   "source": [
    "heart_data[\"chol\"].value_counts()"
   ]
  },
  {
   "cell_type": "markdown",
   "id": "0bc1786e",
   "metadata": {},
   "source": [
    "cholestrol correlation has discussed above and it's relation with age is positive and target is negative"
   ]
  },
  {
   "cell_type": "markdown",
   "id": "586142f2",
   "metadata": {},
   "source": [
    "Geting Train and Test data"
   ]
  },
  {
   "cell_type": "code",
   "execution_count": 29,
   "id": "78ba73aa",
   "metadata": {},
   "outputs": [],
   "source": [
    "from sklearn.model_selection import train_test_split\n",
    "feature_label = heart_data.drop(\"target\",axis=1)\n",
    "label = heart_data[\"target\"]\n",
    "\n"
   ]
  },
  {
   "cell_type": "code",
   "execution_count": 30,
   "id": "36394805",
   "metadata": {},
   "outputs": [],
   "source": [
    "X_train, X_test, y_train, y_test = train_test_split(feature_label, label, test_size=0.20, random_state=None, shuffle=True)\n",
    "#print(X_train)\n",
    "#print(y_train)"
   ]
  },
  {
   "cell_type": "code",
   "execution_count": 31,
   "id": "c40ea06d",
   "metadata": {},
   "outputs": [],
   "source": [
    "from sklearn.metrics import accuracy_score\n",
    "from sklearn.metrics import mean_squared_error\n",
    "import math"
   ]
  },
  {
   "cell_type": "markdown",
   "id": "e7670914",
   "metadata": {},
   "source": [
    "## Now coming to the modeling side "
   ]
  },
  {
   "cell_type": "markdown",
   "id": "70c84356",
   "metadata": {},
   "source": [
    "This data comes under classification modeling"
   ]
  },
  {
   "cell_type": "markdown",
   "id": "1a6755e2",
   "metadata": {},
   "source": [
    "1) Logistic Regression"
   ]
  },
  {
   "cell_type": "code",
   "execution_count": 32,
   "id": "4332c596",
   "metadata": {},
   "outputs": [],
   "source": [
    "from sklearn.linear_model import LogisticRegression\n",
    "lr = LogisticRegression()\n",
    "lr.fit(X_train,y_train)\n",
    "y_pred = lr.predict(X_test)"
   ]
  },
  {
   "cell_type": "code",
   "execution_count": 33,
   "id": "97292617",
   "metadata": {},
   "outputs": [
    {
     "name": "stdout",
     "output_type": "stream",
     "text": [
      "[1 0 1 0 0 0 1 1 1 0 0 0 0 0 1 1 1 0 0 1 1 1 0 1 1 1 1 0 1 1 0 1 1 1 1 1 1\n",
      " 1 1 1 0 1 0 0 0 1 0 0 1 0 1 1 0 1 1 1 1 1 1 0 1 1 0 0 0 0 0 0 0 0 0 0 0 1\n",
      " 0 1 0 0 0 0 1 1 1 1 1 1 0 1 1 1 1 0 0 1 0 1 1 0 1 1 0 0 1 0 0 0 0 0 1 0 1\n",
      " 0 1 0 1 1 1 0 1 1 1 0 1 0 0 0 1 0 1 1 1 0 0 1 0 1 0 1 1 1 0 1 1 1 0 1 1 1\n",
      " 0 1 1 0 0 1 1 1 0 0 1 1 1 1 1 1 1 0 0 0 1 1 0 0 0 1 0 1 1 0 0 1 1 0 1 1 1\n",
      " 1 0 0 1 0 1 1 1 1 0 1 0 0 1 1 1 0 0 1 1]\n"
     ]
    }
   ],
   "source": [
    "print(y_pred)"
   ]
  },
  {
   "cell_type": "code",
   "execution_count": 34,
   "id": "5b8bc826",
   "metadata": {},
   "outputs": [],
   "source": [
    "log_score = (accuracy_score(y_pred,y_test))*100"
   ]
  },
  {
   "cell_type": "code",
   "execution_count": 35,
   "id": "7d29cd5a",
   "metadata": {},
   "outputs": [
    {
     "name": "stdout",
     "output_type": "stream",
     "text": [
      "79.02439024390245\n"
     ]
    }
   ],
   "source": [
    "print(log_score)"
   ]
  },
  {
   "cell_type": "code",
   "execution_count": 36,
   "id": "dbe74668",
   "metadata": {},
   "outputs": [
    {
     "name": "stdout",
     "output_type": "stream",
     "text": [
      "-0.08292682926829265\n"
     ]
    }
   ],
   "source": [
    "mean_lr = y_test.mean()-y_pred.mean()\n",
    "print(mean_lr)\n",
    "rms_lr = math.sqrt(mean_squared_error(y_test,y_pred)) "
   ]
  },
  {
   "cell_type": "markdown",
   "id": "5d533c0b",
   "metadata": {},
   "source": [
    "SVM"
   ]
  },
  {
   "cell_type": "code",
   "execution_count": 37,
   "id": "7e868474",
   "metadata": {},
   "outputs": [],
   "source": [
    "from sklearn import svm"
   ]
  },
  {
   "cell_type": "code",
   "execution_count": 38,
   "id": "3d5e0d2b",
   "metadata": {},
   "outputs": [],
   "source": [
    "sv = svm.SVC(kernel=\"linear\")\n",
    "sv.fit(X_train,y_train)\n",
    "sv_y_pred = sv.predict(X_test)"
   ]
  },
  {
   "cell_type": "code",
   "execution_count": 39,
   "id": "7a84422e",
   "metadata": {},
   "outputs": [
    {
     "name": "stdout",
     "output_type": "stream",
     "text": [
      "[1 1 1 0 0 0 1 1 1 0 0 0 0 0 1 1 1 0 0 1 1 1 0 1 1 1 1 0 1 1 0 1 1 1 1 1 1\n",
      " 1 1 1 0 1 0 0 0 1 0 0 1 0 1 1 0 1 1 1 1 1 1 1 0 1 0 1 0 1 1 0 0 0 0 0 0 1\n",
      " 0 1 0 0 0 1 1 1 1 1 1 1 0 1 1 1 1 0 0 1 0 1 1 0 1 1 0 0 1 0 0 0 1 0 0 0 1\n",
      " 0 1 0 1 0 1 0 1 1 1 0 1 0 0 0 1 0 1 1 1 0 0 1 0 1 0 1 1 1 0 1 1 1 0 1 1 1\n",
      " 0 1 0 0 0 0 1 1 0 0 1 1 1 1 1 1 1 0 0 0 1 1 0 0 0 1 0 1 1 0 0 1 1 0 1 1 1\n",
      " 1 1 0 1 0 1 1 1 1 0 1 0 1 1 1 1 0 0 1 1]\n"
     ]
    }
   ],
   "source": [
    "print(sv_y_pred)"
   ]
  },
  {
   "cell_type": "code",
   "execution_count": 40,
   "id": "067431ed",
   "metadata": {},
   "outputs": [
    {
     "data": {
      "text/plain": [
       "(205,)"
      ]
     },
     "execution_count": 40,
     "metadata": {},
     "output_type": "execute_result"
    }
   ],
   "source": [
    "sv_y_pred.shape"
   ]
  },
  {
   "cell_type": "code",
   "execution_count": 41,
   "id": "05ce1803",
   "metadata": {},
   "outputs": [],
   "source": [
    "svm_score = (accuracy_score(sv_y_pred,y_test))*100\n",
    "#print(score*100)\n",
    "rms_svm = math.sqrt(mean_squared_error(y_test,sv_y_pred))"
   ]
  },
  {
   "cell_type": "code",
   "execution_count": 42,
   "id": "811ff394",
   "metadata": {},
   "outputs": [
    {
     "data": {
      "text/plain": [
       "KNeighborsClassifier(n_neighbors=7)"
      ]
     },
     "execution_count": 42,
     "metadata": {},
     "output_type": "execute_result"
    }
   ],
   "source": [
    "from sklearn.neighbors import KNeighborsClassifier\n",
    "knn = KNeighborsClassifier(n_neighbors=7)\n",
    "knn.fit(X_train,y_train)"
   ]
  },
  {
   "cell_type": "code",
   "execution_count": 43,
   "id": "2c61b292",
   "metadata": {},
   "outputs": [
    {
     "name": "stderr",
     "output_type": "stream",
     "text": [
      "C:\\Users\\hp\\anaconda3\\lib\\site-packages\\sklearn\\neighbors\\_classification.py:228: FutureWarning: Unlike other reduction functions (e.g. `skew`, `kurtosis`), the default behavior of `mode` typically preserves the axis it acts along. In SciPy 1.11.0, this behavior will change: the default value of `keepdims` will become False, the `axis` over which the statistic is taken will be eliminated, and the value None will no longer be accepted. Set `keepdims` to True or False to avoid this warning.\n",
      "  mode, _ = stats.mode(_y[neigh_ind, k], axis=1)\n"
     ]
    }
   ],
   "source": [
    "y_knn_pred = knn.predict(X_test)"
   ]
  },
  {
   "cell_type": "code",
   "execution_count": 44,
   "id": "0624fb2e",
   "metadata": {},
   "outputs": [
    {
     "name": "stdout",
     "output_type": "stream",
     "text": [
      "[1 1 1 1 0 1 0 0 1 1 0 0 0 0 1 1 1 1 1 1 1 0 0 1 0 1 1 0 1 1 0 1 0 1 1 0 0\n",
      " 1 0 1 0 1 0 0 0 0 1 1 0 0 1 0 0 0 1 0 1 1 1 1 1 1 0 1 0 1 1 1 1 0 1 0 0 0\n",
      " 0 0 1 1 1 0 1 1 1 1 1 1 0 0 1 1 0 1 1 1 0 1 1 1 1 0 1 1 0 0 0 0 0 0 1 1 1\n",
      " 0 1 1 1 1 1 0 0 1 1 0 1 1 0 0 1 0 0 0 1 1 0 0 0 0 0 1 1 1 0 1 1 0 0 0 0 1\n",
      " 0 0 0 0 0 1 1 1 0 0 0 1 1 0 1 1 0 0 1 0 0 1 0 0 1 1 0 1 1 0 0 0 1 0 1 1 1\n",
      " 0 1 0 0 0 0 1 1 0 0 1 1 0 1 0 0 0 0 0 1]\n"
     ]
    }
   ],
   "source": [
    "print(y_knn_pred)"
   ]
  },
  {
   "cell_type": "code",
   "execution_count": 45,
   "id": "41c0eb27",
   "metadata": {},
   "outputs": [],
   "source": [
    "knn_score = (accuracy_score(y_knn_pred,y_test))*100"
   ]
  },
  {
   "cell_type": "code",
   "execution_count": 46,
   "id": "4d35ac38",
   "metadata": {},
   "outputs": [],
   "source": [
    "#print(score*100)"
   ]
  },
  {
   "cell_type": "code",
   "execution_count": 47,
   "id": "95204f10",
   "metadata": {},
   "outputs": [],
   "source": [
    "rms_knn = math.sqrt(mean_squared_error(y_test,y_knn_pred))"
   ]
  },
  {
   "cell_type": "markdown",
   "id": "e8273884",
   "metadata": {},
   "source": [
    "Final choosing model"
   ]
  },
  {
   "cell_type": "code",
   "execution_count": 48,
   "id": "cb16acec",
   "metadata": {},
   "outputs": [
    {
     "name": "stdout",
     "output_type": "stream",
     "text": [
      "accuracy for Logistic Regression is  79.02439024390245 and rms is 0.45799137280190727 \n",
      "\n",
      "accuracy for SVM is  77.07317073170732 and rms is 0.4788196870252171 \n",
      "\n",
      "accuracy for KNeighbour is  70.24390243902438 and rms is 0.5454914991177737 \n",
      "\n"
     ]
    }
   ],
   "source": [
    "accur = [log_score,svm_score,knn_score]\n",
    "rms_score = [rms_lr,rms_svm,rms_knn]\n",
    "models = [\"Logistic Regression\",\"SVM\",\"KNeighbour\"]\n",
    "for i in range(len(models)):\n",
    "    print(f\"accuracy for {models[i]} is  {accur[i]} and rms is {rms_score[i]} \\n\")\n",
    "    \n"
   ]
  },
  {
   "cell_type": "markdown",
   "id": "0ee4883b",
   "metadata": {},
   "source": [
    "Hence the logistic Regression is better than svm and Kneighbour"
   ]
  },
  {
   "cell_type": "code",
   "execution_count": null,
   "id": "8394ecbc",
   "metadata": {},
   "outputs": [],
   "source": []
  }
 ],
 "metadata": {
  "kernelspec": {
   "display_name": "Python 3 (ipykernel)",
   "language": "python",
   "name": "python3"
  },
  "language_info": {
   "codemirror_mode": {
    "name": "ipython",
    "version": 3
   },
   "file_extension": ".py",
   "mimetype": "text/x-python",
   "name": "python",
   "nbconvert_exporter": "python",
   "pygments_lexer": "ipython3",
   "version": "3.9.13"
  }
 },
 "nbformat": 4,
 "nbformat_minor": 5
}
